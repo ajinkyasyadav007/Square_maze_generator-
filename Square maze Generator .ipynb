{
 "cells": [
  {
   "cell_type": "markdown",
   "metadata": {},
   "source": [
    "# Genrate the Square Maze"
   ]
  },
  {
   "cell_type": "markdown",
   "metadata": {},
   "source": [
    "# Initialize global variables and import necessary libraries \n",
    "Complexity of maze will increase with size of grid "
   ]
  },
  {
   "cell_type": "code",
   "execution_count": 82,
   "metadata": {},
   "outputs": [],
   "source": [
    "import random\n",
    "import numpy as np\n"
   ]
  },
  {
   "cell_type": "markdown",
   "metadata": {},
   "source": [
    "Functions to update the index while traversing to crave the opaque part  "
   ]
  },
  {
   "cell_type": "code",
   "execution_count": 83,
   "metadata": {},
   "outputs": [],
   "source": [
    "def push_up(x, y):\n",
    "    if x>0:\n",
    "        grid[x - 1][y]=0                   \n",
    "\n",
    "def push_down(x, y):\n",
    "    if x<size-1:\n",
    "        grid[x +1][y]=0\n",
    "\n",
    "\n",
    "def push_left(x, y):\n",
    "    if y>0:\n",
    "        grid[x][y -1]=0\n",
    "\n",
    "\n",
    "def push_right(x, y):\n",
    "    if y<size-1:\n",
    "        grid[x][y +1]=0"
   ]
  },
  {
   "cell_type": "markdown",
   "metadata": {},
   "source": [
    "Fill the Single traversed celss with 1s "
   ]
  },
  {
   "cell_type": "code",
   "execution_count": 84,
   "metadata": {},
   "outputs": [],
   "source": [
    "\n",
    "def single_cell( x, y):\n",
    "    if (x in range(len(grid)) and y in range(len(grid[0]))):\n",
    "        grid[x][y]=1                                       # draw a single width cell\n",
    "\n",
    "\n",
    "def solution_cell(x,y):\n",
    "    if (x in range(len(grid)) and y in range(len(grid[0]))):\n",
    "        grid[x][y]=0             # used to show the solution\n",
    "        #solution_.append((x, y))"
   ]
  },
  {
   "cell_type": "markdown",
   "metadata": {},
   "source": [
    "Traverse through blank maze grid randomly and Crave the path "
   ]
  },
  {
   "cell_type": "code",
   "execution_count": 85,
   "metadata": {},
   "outputs": [],
   "source": [
    "def carve_out_maze(x,y):\n",
    "    single_cell(x, y)                                              # starting positing of maze\n",
    "    stack.append((x,y))                                            # place starting cell into stack\n",
    "    visited.append((x,y))                                          # add starting cell to visited list\n",
    "    while len(stack) > 0:  \n",
    "        cell = []                                                  # define cell movement list\n",
    "        if (x + w, y) not in visited and (x + w in range(len(grid)) and y in range(len(grid[0]))):       # right cell available?\n",
    "            cell.append(\"right\")                                   # if yes add to cell list\n",
    "            \n",
    "        if (x - w, y) not in visited and (x - w in range(len(grid)) and y in range(len(grid[0]))):       # left cell available?\n",
    "            cell.append(\"left\")\n",
    "\n",
    "            \n",
    "        if (x , y + w) not in visited and (x in range(len(grid)) and y+w in range(len(grid[0]))):     # down cell available?\n",
    "            cell.append(\"down\")\n",
    "            cell.append(\"down\")\n",
    "            \n",
    "        if (x, y - w) not in visited and (x in range(len(grid)) and y-w in range(len(grid[0]))):      # up cell available?\n",
    "            cell.append(\"up\")\n",
    "\n",
    "\n",
    "        if len(cell) > 0:                                          # check to see if cell list is empty\n",
    "            cell_chosen = (random.choice(cell))                    # select one of the cell randomly\n",
    "\n",
    "            if cell_chosen == \"right\":                             # if this cell has been chosen\n",
    "                push_right(x, y)                                   # call push_right function\n",
    "                solution[(x + w, y)] = x, y                        # solution = dictionary key = new cell, other = current cell\n",
    "                x = x + w                                          # make this cell the current cell\n",
    "                visited.append((x, y))                              # add to visited list\n",
    "                stack.append((x, y))                                # place current cell on to stack\n",
    "\n",
    "            elif cell_chosen == \"left\":\n",
    "                push_left(x, y)\n",
    "                solution[(x - w, y)] = x, y\n",
    "                x = x - w\n",
    "                visited.append((x, y))\n",
    "                stack.append((x, y))\n",
    "\n",
    "            elif cell_chosen == \"down\":\n",
    "                push_down(x, y)\n",
    "                solution[(x , y + w)] = x, y\n",
    "                y = y + w\n",
    "                visited.append((x, y))\n",
    "                stack.append((x, y))\n",
    "\n",
    "            elif cell_chosen == \"up\":\n",
    "                push_up(x, y)\n",
    "                solution[(x , y - w)] = x, y\n",
    "                y = y - w\n",
    "                visited.append((x, y))\n",
    "                stack.append((x, y))\n",
    "        else:\n",
    "            x, y = stack.pop()                                    # if no cells are available pop one from the stack\n",
    "            single_cell(x, y)                                     # use single_cell function to show backtracking image\n",
    "\n",
    "    #return grid         \n",
    "\n",
    "\n",
    "def plot_route_back(x,y):\n",
    "    solution_cell(x, y)                                          # solution list contains all the coordinates to route back to start\n",
    "    while (x, y) != (start_x,start_y):                                     # loop until cell position == start position\n",
    "        try:\n",
    "            x, y = solution[x, y]                                    # \"key value\" now becomes the new key\n",
    "            solution_cell(x, y)                                      # Carve the path \n",
    "        except:\n",
    "            break\n",
    "\n",
    "\n",
    "\n",
    "\n"
   ]
  },
  {
   "cell_type": "code",
   "execution_count": 86,
   "metadata": {},
   "outputs": [
    {
     "name": "stdout",
     "output_type": "stream",
     "text": [
      "[0, 0, 0, 0, 0, 0, 0, 0, 0, 1, 1, 1, 1, 1, 0, 0, 0, 1, 1, 1]\n",
      "[0, 0, 1, 1, 0, 0, 0, 1, 0, 0, 0, 0, 0, 0, 0, 0, 0, 1, 1, 1]\n",
      "[1, 1, 1, 1, 1, 1, 0, 1, 1, 1, 1, 0, 0, 1, 1, 0, 0, 0, 0, 0]\n",
      "[1, 1, 1, 1, 1, 1, 1, 1, 1, 1, 1, 0, 0, 0, 1, 1, 1, 0, 0, 0]\n",
      "[1, 1, 1, 1, 1, 1, 1, 0, 1, 1, 1, 1, 1, 1, 1, 1, 1, 1, 1, 0]\n",
      "[1, 1, 1, 0, 1, 1, 1, 1, 1, 1, 1, 1, 1, 1, 1, 1, 1, 1, 1, 0]\n",
      "[0, 1, 1, 1, 1, 1, 1, 1, 1, 1, 0, 1, 1, 1, 1, 0, 1, 1, 1, 0]\n",
      "[1, 1, 1, 1, 1, 1, 1, 1, 1, 1, 1, 1, 1, 1, 1, 1, 1, 1, 0, 0]\n",
      "[1, 1, 1, 1, 1, 1, 1, 1, 1, 1, 1, 1, 1, 1, 1, 1, 1, 1, 0, 0]\n",
      "[1, 1, 1, 1, 1, 1, 1, 1, 1, 1, 1, 1, 1, 1, 1, 1, 1, 1, 1, 0]\n",
      "[1, 1, 1, 1, 1, 1, 1, 1, 1, 1, 1, 1, 1, 1, 0, 1, 1, 1, 0, 0]\n",
      "[1, 1, 1, 1, 1, 1, 1, 1, 1, 1, 1, 1, 1, 1, 1, 1, 1, 1, 0, 0]\n",
      "[1, 1, 0, 1, 1, 1, 1, 1, 1, 1, 1, 1, 1, 1, 1, 0, 0, 0, 1, 0]\n",
      "[1, 1, 1, 1, 1, 1, 0, 0, 1, 1, 1, 1, 1, 1, 1, 0, 0, 0, 0, 0]\n",
      "[1, 1, 1, 1, 1, 1, 1, 1, 1, 1, 1, 1, 1, 1, 1, 0, 1, 0, 0, 0]\n",
      "[1, 0, 1, 1, 1, 1, 1, 1, 1, 1, 1, 1, 1, 1, 1, 0, 0, 0, 1, 0]\n",
      "[1, 1, 1, 1, 1, 1, 1, 0, 1, 1, 1, 1, 1, 1, 1, 1, 1, 0, 0, 0]\n",
      "[1, 1, 1, 1, 1, 1, 0, 1, 1, 1, 1, 1, 1, 1, 1, 1, 1, 1, 0, 0]\n",
      "[0, 1, 1, 1, 1, 1, 1, 1, 1, 1, 1, 1, 1, 1, 1, 1, 1, 1, 0, 0]\n",
      "[1, 1, 1, 1, 1, 1, 1, 1, 1, 1, 1, 1, 1, 1, 1, 1, 1, 1, 0, 0]\n"
     ]
    }
   ],
   "source": [
    "if __name__ == '__main__':\n",
    "    \n",
    "        #declare global variables \n",
    "    grid = []                          #final Maze grid to be generated \n",
    "    visited = []                       #List of visited index\n",
    "    stack = []                         #Memory stack to traverse the grid \n",
    "    solution = {}                      #Maze solution path \n",
    "    w = 1                              # width of cell grid\n",
    "\n",
    "\n",
    "    start_x=0\n",
    "    start_y=0                                     # starting position of grid\n",
    "    size=20                                      #Size of the grid \n",
    "\n",
    "#      Initially Generate the Maze grid with all 1s\n",
    "#     In maze 1 represents the Wall and 0s represents open space\n",
    "\n",
    "\n",
    "    grid = [[1 for _ in range(size)] for _ in range(size)]\n",
    "    carve_out_maze(start_x,start_y)               # call build the maze function\n",
    "    plot_route_back(size-1, size-1)               # call the solution function to carve the path \n",
    "\n",
    "\n",
    "    for row in grid:\n",
    "        print(row)"
   ]
  },
  {
   "cell_type": "code",
   "execution_count": null,
   "metadata": {},
   "outputs": [],
   "source": []
  }
 ],
 "metadata": {
  "kernelspec": {
   "display_name": "Python 3",
   "language": "python",
   "name": "python3"
  },
  "language_info": {
   "codemirror_mode": {
    "name": "ipython",
    "version": 3
   },
   "file_extension": ".py",
   "mimetype": "text/x-python",
   "name": "python",
   "nbconvert_exporter": "python",
   "pygments_lexer": "ipython3",
   "version": "3.7.0"
  }
 },
 "nbformat": 4,
 "nbformat_minor": 2
}
